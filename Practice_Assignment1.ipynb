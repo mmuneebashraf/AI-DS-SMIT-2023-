{
 "cells": [
  {
   "cell_type": "markdown",
   "metadata": {},
   "source": [
    "# Topic: print()"
   ]
  },
  {
   "cell_type": "markdown",
   "metadata": {},
   "source": [
    "1) Using the python print function print any string value, integer value, boolean value, float value in single print command"
   ]
  },
  {
   "cell_type": "code",
   "execution_count": 1,
   "metadata": {},
   "outputs": [
    {
     "name": "stdout",
     "output_type": "stream",
     "text": [
      "MUHAMMAD MUNEEB ASHRAF 25 True 3.333\n"
     ]
    }
   ],
   "source": [
    "# type your code here\n",
    "print (\"MUHAMMAD MUNEEB ASHRAF\",25,True,3.333)"
   ]
  },
  {
   "cell_type": "markdown",
   "metadata": {},
   "source": [
    "2) Using the python print function print hyphon(-) separated any string value, integer value, boolean value, float value in single print command"
   ]
  },
  {
   "cell_type": "code",
   "execution_count": 2,
   "metadata": {},
   "outputs": [
    {
     "name": "stdout",
     "output_type": "stream",
     "text": [
      "MUHAMMAD MUNEEB ASHRAF-25-True-3.333\n"
     ]
    }
   ],
   "source": [
    "# type your code here\n",
    "print (\"MUHAMMAD MUNEEB ASHRAF\",25,True,3.333,sep=\"-\")"
   ]
  },
  {
   "cell_type": "markdown",
   "metadata": {},
   "source": [
    "3) Using the python print function print any string value, integer value, boolean value, float value in separate print command.\n",
    "But every value must be space separated and in single line "
   ]
  },
  {
   "cell_type": "code",
   "execution_count": 3,
   "metadata": {},
   "outputs": [
    {
     "name": "stdout",
     "output_type": "stream",
     "text": [
      "MUHAMMAD MUNEEB ASHRAF 25 True 3.333 "
     ]
    }
   ],
   "source": [
    "# type your code here\n",
    "print (\"MUHAMMAD MUNEEB ASHRAF\",end=\" \")\n",
    "print (25,end=\" \")\n",
    "print (True,end=\" \")\n",
    "print (3.333,end=\" \")"
   ]
  },
  {
   "cell_type": "markdown",
   "metadata": {},
   "source": [
    "4) Can a python print function take no value to print???"
   ]
  },
  {
   "cell_type": "code",
   "execution_count": 7,
   "metadata": {},
   "outputs": [],
   "source": [
    "# type your answer here\n",
    "#  Yes"
   ]
  },
  {
   "cell_type": "markdown",
   "metadata": {},
   "source": [
    "# TOPIC :Variables "
   ]
  },
  {
   "cell_type": "markdown",
   "metadata": {},
   "source": [
    "5) One of my friends name is Mr. Ahmed. He is 30 years old.  He is a lawer by profession. He has done his bachelors in law in the year 2005. He is working with a reputable law firm 'The Himalya Associates' in Karachi since 2015.\n",
    "He is a handsome lawer with height of 5.10 feets and weight 70600g. His monthly income is Rs. 200k PKR.\n",
    "\n",
    "Note: Create variables from above text and also assign values from the text.  "
   ]
  },
  {
   "cell_type": "code",
   "execution_count": 17,
   "metadata": {},
   "outputs": [
    {
     "name": "stdout",
     "output_type": "stream",
     "text": [
      "One of my friends name is Mr.Ahmed. He is 30 years old. He is a lawer by profession. He has done his bachelors in lawer in the year 2005. He is working with a reputable law firm 'The Himalya Associates' in Karachi since 2015. He is a handsome lawer with height of 5.1 feets and weight 70600g. His monthly income is Rs. 200k PKR.\n"
     ]
    }
   ],
   "source": [
    "#type your code here\n",
    "name = \"Ahmed\"\n",
    "age = 30\n",
    "profession = \"lawer\"\n",
    "passoutYear = 2005\n",
    "companyName = \"The Himalya Associates\"\n",
    "city = \"Karachi\"\n",
    "workSince = 2015\n",
    "height = 5.10\n",
    "weight = 70600\n",
    "income = 200\n",
    "print(f\"One of my friends name is Mr.{name}. He is {age} years old. He is a {profession} by profession. He has done his bachelors in {profession} in the year {passoutYear}. He is working with a reputable law firm '{companyName}' in {city} since {workSince}. He is a handsome {profession} with height of {height} feets and weight {weight}g. His monthly income is Rs. {income}k PKR.\")"
   ]
  },
  {
   "cell_type": "markdown",
   "metadata": {},
   "source": [
    "6)How many years has been to Mr. Ahmed after his bachelors degree? Create a variable that hold current year value and then subtract it from his passout year"
   ]
  },
  {
   "cell_type": "code",
   "execution_count": 21,
   "metadata": {},
   "outputs": [
    {
     "name": "stdout",
     "output_type": "stream",
     "text": [
      "There are 18 years has been to Mr. Ahmed after his bachelors degree\n"
     ]
    }
   ],
   "source": [
    "#type your code here \n",
    "currentYear = 2023\n",
    "passoutYears = currentYear-passoutYear\n",
    "print(f\"There are {passoutYears} years has been to Mr. {name} after his bachelors degree\")"
   ]
  },
  {
   "cell_type": "markdown",
   "metadata": {},
   "source": [
    "7) How many years has Mr. Ahmed been working with law firm 'The Himalya Associates'. Create necesary variables and print the correct number of years in working in the firm"
   ]
  },
  {
   "cell_type": "code",
   "execution_count": 24,
   "metadata": {},
   "outputs": [
    {
     "name": "stdout",
     "output_type": "stream",
     "text": [
      "There are 8 years has Mr. Ahmed been working with law firm 'The Himalya Associates'.\n"
     ]
    }
   ],
   "source": [
    "#type your code here \n",
    "numberOfExperience = currentYear - workSince\n",
    "\n",
    "print(f\"There are {numberOfExperience} years has Mr. {name} been working with law firm '{companyName}'.\")"
   ]
  },
  {
   "cell_type": "markdown",
   "metadata": {},
   "source": [
    "8)Convert the monthly income of Mr. Ahmed in dollars.  Create necesary variables and print the income in dollars."
   ]
  },
  {
   "cell_type": "code",
   "execution_count": 31,
   "metadata": {},
   "outputs": [
    {
     "name": "stdout",
     "output_type": "stream",
     "text": [
      "Mr. Ahmed's Monthly Income in dollars is: 55646.6\n"
     ]
    }
   ],
   "source": [
    "#type your code here \n",
    "dollarRate = 278.233\n",
    "incomeInDollars = income * dollarRate\n",
    "\n",
    "print(f\"Mr. {name}'s Monthly Income in dollars is: {incomeInDollars}\")"
   ]
  },
  {
   "cell_type": "markdown",
   "metadata": {},
   "source": [
    "9) Check if the income in dollars is a float or integer value. if it is float, re-write the code so that income gets converted in integer. print the income in integer type value"
   ]
  },
  {
   "cell_type": "code",
   "execution_count": 32,
   "metadata": {},
   "outputs": [
    {
     "name": "stdout",
     "output_type": "stream",
     "text": [
      "Mr. Ahmed's Monthly Income in dollars is: 55646\n"
     ]
    }
   ],
   "source": [
    "#type your code here \n",
    "print(f\"Mr. {name}'s Monthly Income in dollars is: {int(incomeInDollars)}\")"
   ]
  },
  {
   "cell_type": "raw",
   "metadata": {},
   "source": [
    "10) Print the type of Mr. Ahmed's weight. Convert the weight of Mr. Ahmed in kg so that weight must be a integer value. "
   ]
  },
  {
   "cell_type": "code",
   "execution_count": 41,
   "metadata": {},
   "outputs": [
    {
     "name": "stdout",
     "output_type": "stream",
     "text": [
      "<class 'int'>\n",
      "Mr. Ahmed's Weight in KG and in Integer is: 70\n"
     ]
    }
   ],
   "source": [
    "#type your code here \n",
    "\n",
    "print(type(weight))\n",
    "\n",
    "weightInKg = weight/1000\n",
    "\n",
    "print(f\"Mr. {name}'s Weight in KG and in Integer is: {int(weightInKg)}\")"
   ]
  },
  {
   "cell_type": "markdown",
   "metadata": {},
   "source": [
    "print the year of birth of Mr. Ahmed."
   ]
  },
  {
   "cell_type": "code",
   "execution_count": 44,
   "metadata": {},
   "outputs": [
    {
     "name": "stdout",
     "output_type": "stream",
     "text": [
      "Mr. Ahmed's Birth Year is: 1993\n"
     ]
    }
   ],
   "source": [
    "#type your code here\n",
    "birthYear = currentYear-age\n",
    "print(f\"Mr. {name}'s Birth Year is: {birthYear}\")"
   ]
  },
  {
   "cell_type": "markdown",
   "metadata": {},
   "source": [
    "12) Can Rs. 100 be divided equally among 6 students? \n",
    "HINT: % operator"
   ]
  },
  {
   "cell_type": "code",
   "execution_count": 1,
   "metadata": {},
   "outputs": [
    {
     "data": {
      "text/plain": [
       "4"
      ]
     },
     "execution_count": 1,
     "metadata": {},
     "output_type": "execute_result"
    }
   ],
   "source": [
    "#type your code here\n",
    "100%6\n",
    "# No"
   ]
  },
  {
   "cell_type": "markdown",
   "metadata": {},
   "source": [
    "# Topic: User input"
   ]
  },
  {
   "cell_type": "markdown",
   "metadata": {},
   "source": [
    "13) Take students detail as user input on console. Like \n",
    "name \n",
    "father name \n",
    "contact\n",
    "email\n",
    "Course\n",
    "Address\n",
    "Days \n",
    "Timings \n",
    "And print a formatted id card of student \n",
    "\n",
    "\n",
    "                                 Saylani Mass IT Training Program\n",
    "                                 _________________________________\n",
    "                                         Bahdurabad Campus (HO)\n",
    "                    Student Name: Abdullah Khan\n",
    "                    Father Name : Amanullah Khan\n",
    "                    Course      : Data Science and Artificial Intelligence \n",
    "                    Days        : Monday & Thursday \n",
    "                    Timings     : 7pm - 10pm\n",
    "                    Email       : abdullah_khan@gmail.com\n",
    "                    Contact     : 1234567890\n",
    "                    Address     : Flat 201, Roha Arcade, CA\n",
    "                    \n",
    "                    \n",
    "                    Saylani Welfare International Trust Head Office (Bahadurabad Karachi)\n",
    "                    \n",
    "                    \n",
    "                    \n",
    "                    \n",
    "                    "
   ]
  },
  {
   "cell_type": "code",
   "execution_count": 54,
   "metadata": {},
   "outputs": [
    {
     "name": "stdout",
     "output_type": "stream",
     "text": [
      "Enter Your Name: MUHAMMAD MUNEEB ASHRAF\n",
      "Enter Your Father's Name : MUHAMMAD ASHRAF SAEED\n",
      "Enter Your Course : AI & DS\n",
      "Enter Your Days : MONDAY AND THURSDAY\n",
      "Enter Your Class Timing : 7PM - 10PM\n",
      "Enter Your Email Adderess : mmuneebashraf@gmail.com\n",
      "Enter Your Contact Number : +92 333 3736760\n",
      "Enter Your Adderess : SHAH FAISAL COLONY, BLOCK 1, KARACHI, PAKISTAN\n",
      "                             Saylani Mass IT Training Program\n",
      "                             _________________________________\n",
      "                                     Bahdurabad Campus (HO)\n",
      "                Student Name: MUHAMMAD MUNEEB ASHRAF\n",
      "                Father Name : MUHAMMAD ASHRAF SAEED\n",
      "                Course      : AI & DS \n",
      "                Days        : MONDAY AND THURSDAY \n",
      "                Timings     : 7PM - 10PM\n",
      "                Email       : mmuneebashraf@gmail.com\n",
      "                Contact     : +92 333 3736760\n",
      "                Address     : SHAH FAISAL COLONY, BLOCK 1, KARACHI, PAKISTAN\n",
      "\n",
      "\n",
      "                Saylani Welfare International Trust Head Office (Bahadurabad Karachi)\n"
     ]
    }
   ],
   "source": [
    "studentName = input(\"Enter Your Name: \")\n",
    "studenttFatherName = input(\"Enter Your Father's Name : \")\n",
    "studentCourse = input(\"Enter Your Course : \")\n",
    "studentClassDays = input(\"Enter Your Days : \")\n",
    "studentClassTiming = input(\"Enter Your Class Timing : \")\n",
    "studentEmail = input(\"Enter Your Email Adderess : \")\n",
    "studentContact = input(\"Enter Your Contact Number : \")\n",
    "studentAdderess = input(\"Enter Your Adderess : \")\n",
    "\n",
    "print(f'''                             Saylani Mass IT Training Program\n",
    "                             _________________________________\n",
    "                                     Bahdurabad Campus (HO)\n",
    "                Student Name: {studentName}\n",
    "                Father Name : {studenttFatherName}\n",
    "                Course      : {studentCourse} \n",
    "                Days        : {studentClassDays} \n",
    "                Timings     : {studentClassTiming}\n",
    "                Email       : {studentEmail}\n",
    "                Contact     : {studentContact}\n",
    "                Address     : {studentAdderess}\n",
    "\n",
    "\n",
    "                Saylani Welfare International Trust Head Office (Bahadurabad Karachi)''')"
   ]
  },
  {
   "cell_type": "markdown",
   "metadata": {},
   "source": [
    "# Topic : Operators and Expression with ambiguity"
   ]
  },
  {
   "cell_type": "raw",
   "metadata": {},
   "source": [
    "14 ) What is the output of print(2 * 3 ** 3 * 4)\n",
    "\n",
    "a) 216\n",
    "b )864\n",
    "\n",
    "\n",
    "a"
   ]
  },
  {
   "cell_type": "raw",
   "metadata": {},
   "source": [
    "15 ) What is the output of the expression  print(-18 // 4)\n",
    "a) -4\n",
    "b)  4\n",
    "c) -5\n",
    "d)  5 \n",
    " \n",
    " \n",
    " c"
   ]
  },
  {
   "cell_type": "raw",
   "metadata": {},
   "source": [
    "16) \n",
    "x = 6\n",
    "y = 2\n",
    "print(x ** y)\n",
    "print(x // y)\n",
    "\n",
    "\n",
    "a) 66\n",
    "   0\n",
    "    \n",
    "b) 36\n",
    "   0\n",
    "    \n",
    "c) 66\n",
    "    3\n",
    "    \n",
    "d)  36\n",
    "    3\n",
    "    \n",
    "    \n",
    " d"
   ]
  },
  {
   "cell_type": "raw",
   "metadata": {},
   "source": [
    "17)\n",
    "What is the output of print(10 - 4 * 2)\n",
    "\n",
    " a) 2\n",
    " \n",
    " \n",
    " b) 12\n",
    " \n",
    " \n",
    " a"
   ]
  },
  {
   "cell_type": "raw",
   "metadata": {},
   "source": [
    "18 ) What is the output of print(2%6)\n",
    "\n",
    " a) ValueError\n",
    " b) 0.33\n",
    " c) 2\n",
    " \n",
    " \n",
    " c"
   ]
  },
  {
   "cell_type": "raw",
   "metadata": {},
   "source": [
    "19) What is the value of the following Python Expression\n",
    "\n",
    "  print(36 / 4)\n",
    "\n",
    " a) 9.0\n",
    " b) 9\n",
    " \n",
    " \n",
    " a"
   ]
  },
  {
   "cell_type": "raw",
   "metadata": {},
   "source": [
    "20 ) In the Python statement x = a + 5 - b:\n",
    "\n",
    "a and b are ________\n",
    "a + 5 - b is ________\n",
    "\n",
    "\n",
    "a) operators, a statement\n",
    "\n",
    "\n",
    "b) operands, an expression\n",
    "\n",
    "c) terms, a group\n",
    "\n",
    "\n",
    "d) operands, an equation\n",
    "\n",
    "\n",
    "b"
   ]
  },
  {
   "cell_type": "raw",
   "metadata": {},
   "source": [
    "21) Should you use the == operator to determine whether objects of type float are equal?\n",
    "\n",
    "\n",
    "Sure! Go for it.\n",
    "\n",
    "\n",
    "Nope, not a good idea.\n",
    "\n",
    "\n",
    "\n",
    "Nope, not a good idea."
   ]
  },
  {
   "cell_type": "raw",
   "metadata": {},
   "source": [
    "22 ) What is the value of the expression 1 + 2 ** 3 * 4?\n",
    "\n",
    "a) 33\n",
    "\n",
    "\n",
    "b) 36\n",
    "\n",
    "\n",
    "c) 108\n",
    "\n",
    "\n",
    "d) 4097\n",
    "\n",
    "\n",
    "a"
   ]
  },
  {
   "cell_type": "code",
   "execution_count": null,
   "metadata": {},
   "outputs": [],
   "source": []
  }
 ],
 "metadata": {
  "kernelspec": {
   "display_name": "Python 3",
   "language": "python",
   "name": "python3"
  },
  "language_info": {
   "codemirror_mode": {
    "name": "ipython",
    "version": 3
   },
   "file_extension": ".py",
   "mimetype": "text/x-python",
   "name": "python",
   "nbconvert_exporter": "python",
   "pygments_lexer": "ipython3",
   "version": "3.8.8"
  }
 },
 "nbformat": 4,
 "nbformat_minor": 2
}
